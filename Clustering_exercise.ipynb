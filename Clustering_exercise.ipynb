{
 "cells": [
  {
   "cell_type": "code",
   "execution_count": null,
   "metadata": {},
   "outputs": [],
   "source": [
    "!pip install scikit-learn matplotlib seaborn\n",
    "\n",
    "import numpy as np\n",
    "import matplotlib.pyplot as plt\n",
    "import seaborn as sns\n",
    "from sklearn.cluster import KMeans, DBSCAN, AgglomerativeClustering\n",
    "from sklearn.datasets import make_blobs, make_moons, make_circles\n",
    "from sklearn.preprocessing import StandardScaler\n",
    "from scipy.cluster.hierarchy import dendrogram, linkage\n"
   ]
  },
  {
   "cell_type": "markdown",
   "metadata": {},
   "source": [
    "### Generate sample DAta\n"
   ]
  },
  {
   "cell_type": "code",
   "execution_count": null,
   "metadata": {},
   "outputs": [],
   "source": [
    "# We will create synthetic datasets to explore different clustering techniques.\n",
    "\n",
    "def plot_data(X, labels=None, title=\"Dataset\"):\n",
    "    plt.figure(figsize=(6, 4))\n",
    "    plt.scatter(X[:, 0], X[:, 1], c=labels, cmap='viridis', edgecolor='k', s=50)\n",
    "    plt.title(title)\n",
    "    plt.show()\n",
    "\n",
    "# Generate different datasets\n",
    "blobs, _ = make_blobs(n_samples=300, centers=4, cluster_std=1.0, random_state=42)\n",
    "moons, _ = make_moons(n_samples=300, noise=0.1, random_state=42)\n",
    "circles, _ = make_circles(n_samples=300, factor=0.5, noise=0.1, random_state=42)\n",
    "\n",
    "# Plot datasets\n",
    "plot_data(blobs, title=\"Blobs Dataset\")\n",
    "plot_data(moons, title=\"Moons Dataset\")\n",
    "plot_data(circles, title=\"Circles Dataset\")\n"
   ]
  },
  {
   "cell_type": "code",
   "execution_count": null,
   "metadata": {},
   "outputs": [],
   "source": [
    "\n",
    "# K-Means is a centroid-based clustering technique that partitions data into k clusters.\n",
    "\n",
    "kmeans = KMeans(n_clusters=4, random_state=42)\n",
    "kmeans_labels = kmeans.fit_predict(blobs)\n",
    "plot_data(blobs, kmeans_labels, title=\"K-Means Clustering\")\n"
   ]
  }
 ],
 "metadata": {
  "kernelspec": {
   "display_name": ".venv",
   "language": "python",
   "name": "python3"
  },
  "language_info": {
   "name": "python",
   "version": "3.12.0"
  }
 },
 "nbformat": 4,
 "nbformat_minor": 2
}
