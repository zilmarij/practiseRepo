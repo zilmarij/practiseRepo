{
 "cells": [
  {
   "cell_type": "code",
   "execution_count": 1,
   "metadata": {},
   "outputs": [
    {
     "ename": "ModuleNotFoundError",
     "evalue": "No module named 'numpy'",
     "output_type": "error",
     "traceback": [
      "\u001b[31m---------------------------------------------------------------------------\u001b[39m",
      "\u001b[31mModuleNotFoundError\u001b[39m                       Traceback (most recent call last)",
      "\u001b[36mCell\u001b[39m\u001b[36m \u001b[39m\u001b[32mIn[1]\u001b[39m\u001b[32m, line 3\u001b[39m\n\u001b[32m      1\u001b[39m get_ipython().system(\u001b[33m'\u001b[39m\u001b[33mpip install scikit-learn matplotlib seaborn\u001b[39m\u001b[33m'\u001b[39m)\n\u001b[32m----> \u001b[39m\u001b[32m3\u001b[39m \u001b[38;5;28;01mimport\u001b[39;00m\u001b[38;5;250m \u001b[39m\u001b[34;01mnumpy\u001b[39;00m\u001b[38;5;250m \u001b[39m\u001b[38;5;28;01mas\u001b[39;00m\u001b[38;5;250m \u001b[39m\u001b[34;01mnp\u001b[39;00m\n\u001b[32m      4\u001b[39m \u001b[38;5;28;01mimport\u001b[39;00m\u001b[38;5;250m \u001b[39m\u001b[34;01mmatplotlib\u001b[39;00m\u001b[34;01m.\u001b[39;00m\u001b[34;01mpyplot\u001b[39;00m\u001b[38;5;250m \u001b[39m\u001b[38;5;28;01mas\u001b[39;00m\u001b[38;5;250m \u001b[39m\u001b[34;01mplt\u001b[39;00m\n\u001b[32m      5\u001b[39m \u001b[38;5;28;01mimport\u001b[39;00m\u001b[38;5;250m \u001b[39m\u001b[34;01mseaborn\u001b[39;00m\u001b[38;5;250m \u001b[39m\u001b[38;5;28;01mas\u001b[39;00m\u001b[38;5;250m \u001b[39m\u001b[34;01msns\u001b[39;00m\n",
      "\u001b[31mModuleNotFoundError\u001b[39m: No module named 'numpy'"
     ]
    }
   ],
   "source": [
    "!pip install scikit-learn matplotlib seaborn\n",
    "\n",
    "import numpy as np\n",
    "import matplotlib.pyplot as plt\n",
    "import seaborn as sns\n",
    "from sklearn.cluster import KMeans, DBSCAN, AgglomerativeClustering\n",
    "from sklearn.datasets import make_blobs, make_moons, make_circles\n",
    "from sklearn.preprocessing import StandardScaler\n",
    "from scipy.cluster.hierarchy import dendrogram, linkage\n"
   ]
  },
  {
   "cell_type": "markdown",
   "metadata": {},
   "source": [
    "### **Generate sample DAta**\n"
   ]
  },
  {
   "cell_type": "code",
   "execution_count": null,
   "metadata": {},
   "outputs": [],
   "source": [
    "# We will create synthetic datasets to explore different clustering techniques.\n",
    "\n",
    "def plot_data(X, labels=None, title=\"Dataset\"):\n",
    "    plt.figure(figsize=(6, 4))\n",
    "    plt.scatter(X[:, 0], X[:, 1], c=labels, cmap='viridis', edgecolor='k', s=50)\n",
    "    plt.title(title)\n",
    "    plt.show()\n",
    "\n",
    "# Generate different datasets\n",
    "blobs, _ = make_blobs(n_samples=300, centers=4, cluster_std=1.0, random_state=42)\n",
    "moons, _ = make_moons(n_samples=300, noise=0.1, random_state=42)\n",
    "circles, _ = make_circles(n_samples=300, factor=0.5, noise=0.1, random_state=42)\n",
    "\n",
    "# Plot datasets\n",
    "plot_data(blobs, title=\"Blobs Dataset\")\n",
    "plot_data(moons, title=\"Moons Dataset\")\n",
    "plot_data(circles, title=\"Circles Dataset\")\n"
   ]
  },
  {
   "cell_type": "code",
   "execution_count": null,
   "metadata": {},
   "outputs": [],
   "source": [
    "\n",
    "# K-Means is a centroid-based clustering technique that partitions data into k clusters.\n",
    "\n",
    "kmeans = KMeans(n_clusters=4, random_state=42)\n",
    "kmeans_labels = kmeans.fit_predict(blobs)\n",
    "plot_data(blobs, kmeans_labels, title=\"K-Means Clustering\")\n"
   ]
  },
  {
   "cell_type": "markdown",
   "metadata": {},
   "source": [
    "### **Elbow Method for Optimal K in K-Means**\n"
   ]
  },
  {
   "cell_type": "code",
   "execution_count": null,
   "metadata": {},
   "outputs": [],
   "source": [
    "# The Elbow Method helps to determine the optimal number of clusters.\n",
    "\n",
    "inertia = []\n",
    "k_values = range(1, 10)\n",
    "for k in k_values:\n",
    "    kmeans = KMeans(n_clusters=k, random_state=42)\n",
    "    kmeans.fit(blobs)\n",
    "    inertia.append(kmeans.inertia_)\n",
    "\n",
    "plt.figure(figsize=(6, 4))\n",
    "plt.plot(k_values, inertia, marker='o', linestyle='--')\n",
    "plt.xlabel('Number of Clusters')\n",
    "plt.ylabel('Inertia')\n",
    "plt.title('Elbow Method for Optimal K')\n",
    "plt.show()\n"
   ]
  },
  {
   "cell_type": "markdown",
   "metadata": {},
   "source": [
    "### **Hierarchical Clustering**"
   ]
  },
  {
   "cell_type": "code",
   "execution_count": null,
   "metadata": {},
   "outputs": [],
   "source": [
    "# Hierarchical clustering builds a hierarchy of clusters using a distance-based approach.\n",
    "\n",
    "linkage_matrix = linkage(blobs, method='ward')\n",
    "plt.figure(figsize=(8, 4))\n",
    "dendrogram(linkage_matrix)\n",
    "plt.title(\"Dendrogram for Hierarchical Clustering\")\n",
    "plt.show()\n",
    "\n",
    "# Apply Agglomerative Clustering\n",
    "hierarchical = AgglomerativeClustering(n_clusters=4)\n",
    "hierarchical_labels = hierarchical.fit_predict(blobs)\n",
    "plot_data(blobs, hierarchical_labels, title=\"Hierarchical Clustering\")\n",
    "\n"
   ]
  },
  {
   "cell_type": "markdown",
   "metadata": {},
   "source": [
    "### **DBSCAN (Density-Based Clustering)**"
   ]
  },
  {
   "cell_type": "code",
   "execution_count": null,
   "metadata": {},
   "outputs": [],
   "source": [
    "\n",
    "# DBSCAN is useful for identifying clusters of varying densities and detecting noise points.\n",
    "\n",
    "scaler = StandardScaler()\n",
    "moons_scaled = scaler.fit_transform(moons)\n",
    "\n",
    "dbscan = DBSCAN(eps=0.2, min_samples=5)\n",
    "dbscan_labels = dbscan.fit_predict(moons_scaled)\n",
    "plot_data(moons, dbscan_labels, title=\"DBSCAN Clustering\")\n"
   ]
  },
  {
   "cell_type": "markdown",
   "metadata": {},
   "source": [
    "### **Gaussian Mixture Model (GMM)**"
   ]
  },
  {
   "cell_type": "code",
   "execution_count": null,
   "metadata": {},
   "outputs": [],
   "source": [
    "# ---\n",
    "\n",
    "# GMM is a probabilistic clustering method that models data as a mixture of Gaussian distributions.\n",
    "from sklearn.mixture import GaussianMixture\n",
    "\n",
    "gmm = GaussianMixture(n_components=4, random_state=42)\n",
    "gmm_labels = gmm.fit_predict(blobs)\n",
    "plot_data(blobs, gmm_labels, title=\"Gaussian Mixture Model Clustering\")\n",
    "\n",
    "# ---"
   ]
  },
  {
   "cell_type": "markdown",
   "metadata": {},
   "source": [
    "### **Evaluating Clustering Performance**\n"
   ]
  },
  {
   "cell_type": "code",
   "execution_count": null,
   "metadata": {},
   "outputs": [],
   "source": [
    "# Silhouette Score: Measures how similar each point is to its cluster vs other clusters.\n",
    "from sklearn.metrics import silhouette_score # Import silhouette_score\n",
    "\n",
    "silhouette_kmeans = silhouette_score(blobs, kmeans_labels)\n",
    "silhouette_hierarchical = silhouette_score(blobs, hierarchical_labels)\n",
    "silhouette_gmm = silhouette_score(blobs, gmm_labels)\n",
    "\n",
    "print(f'Silhouette Score (K-Means): {silhouette_kmeans:.2f}')\n",
    "print(f'Silhouette Score (Hierarchical): {silhouette_hierarchical:.2f}')\n",
    "print(f'Silhouette Score (GMM): {silhouette_gmm:.2f}')"
   ]
  }
 ],
 "metadata": {
  "kernelspec": {
   "display_name": ".venv",
   "language": "python",
   "name": "python3"
  },
  "language_info": {
   "codemirror_mode": {
    "name": "ipython",
    "version": 3
   },
   "file_extension": ".py",
   "mimetype": "text/x-python",
   "name": "python",
   "nbconvert_exporter": "python",
   "pygments_lexer": "ipython3",
   "version": "3.12.0"
  }
 },
 "nbformat": 4,
 "nbformat_minor": 2
}
